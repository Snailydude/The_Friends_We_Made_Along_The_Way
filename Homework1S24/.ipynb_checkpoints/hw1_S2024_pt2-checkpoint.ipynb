{
 "cells": [
  {
   "cell_type": "markdown",
   "metadata": {},
   "source": [
    "# Homework 1 Part 2\n",
    "\n",
    "\n",
    "This is an individual assignment."
   ]
  },
  {
   "cell_type": "markdown",
   "metadata": {},
   "source": [
    "## Description\n",
    "\n",
    "Create or edit this Jupyter Notebook to answer the questions below. Use simulations to answer these questions. An analytical solution can be useful to check if your simulation is correct but analytical solutions alone will not be accepted as a solution to a problem."
   ]
  },
  {
   "cell_type": "code",
   "execution_count": 1,
   "metadata": {},
   "outputs": [],
   "source": [
    "import random\n",
    "import numpy as np\n",
    "import numpy.random as npr\n",
    "import matplotlib.pyplot as plt\n",
    "%matplotlib inline\n",
    "plt.style.use('bmh')"
   ]
  },
  {
   "cell_type": "markdown",
   "metadata": {},
   "source": [
    "## Problem 1\n",
    "\n",
    "Consider repeatedly rolling a fair 4-sided die.\n",
    "\n",
    "1. Create a simulation to compute the probability that the top face will be 4 at least once on four rolls of the die?\n",
    "2. Create a simulation to compute the probability that the top face will be 4 at least once on 20 rolls of the die?\n",
    "3. Create a simulation to compute how many rolls of the die would you have to do to be 90% confident that you would see at least one 4?\n",
    "4. Using the formula you have computed in problem 2 part 4, make a Python function that takes in the target value $p$ and outputs the required number of rolls of an integer. \n",
    "    1. Find the values for $p=0.95$ and $p=0.99$. \n",
    "    2. Use your simulation to verify that the number of rolls you specified is sufficient to achieve $p\\geq 0.95$."
   ]
  },
  {
   "cell_type": "code",
   "execution_count": 17,
   "metadata": {},
   "outputs": [
    {
     "name": "stdout",
     "output_type": "stream",
     "text": [
      "In 10000 experiments, at least one four was rolled 5177 times.\n",
      "Probability of rolling at least one four in 4 rolls: 51.77\n",
      "\n",
      "In 10000 experiments, at least one four was rolled 9734 times.\n",
      "Probability of rolling at least one four in 20 rolls: 97.34\n",
      "\n",
      "Probability of rolling at least one four in 11 rolls: 88.63\n",
      "With 11 to 12 dice, there is about a 90% probability of rolling at least one four.\n",
      "\n",
      "Probability of rolling at least one four in 15 rolls: 94.73\n",
      "With 15 to 16 dice, there is about a 90% probability of rolling at least one four.\n",
      "\n",
      "Probability of rolling at least one four in 23 rolls: 98.8\n",
      "With 23 to 24 dice, there is about a 90% probability of rolling at least one four.\n",
      "\n"
     ]
    }
   ],
   "source": [
    "#Part 1\n",
    "simulations = 10000\n",
    "dice = [1,2,3,4,5,6]\n",
    "rolls = 4\n",
    "fours = 0\n",
    "\n",
    "for i in range (simulations):\n",
    "    roll = random.choices(dice, k = rolls)\n",
    "    for j in (roll):\n",
    "        if j == 4:\n",
    "            fours += 1\n",
    "            break\n",
    "print(f\"In {simulations} experiments, at least one four was rolled {fours} times.\")\n",
    "print(f\"Probability of rolling at least one four in {rolls} rolls: {fours/simulations*100}\\n\")\n",
    "\n",
    "#Part 2\n",
    "rolls = 20\n",
    "fours = 0\n",
    "\n",
    "for i in range (simulations):\n",
    "    roll = random.choices(dice, k = rolls)\n",
    "    for j in (roll):\n",
    "        if j == 4:\n",
    "            fours += 1\n",
    "            break\n",
    "print(f\"In {simulations} experiments, at least one four was rolled {fours} times.\")\n",
    "print(f\"Probability of rolling at least one four in {rolls} rolls: {fours/simulations*100}\\n\")\n",
    "\n",
    "#Part 3\n",
    "rolls = 20\n",
    "fours = 0\n",
    "looping = True\n",
    "\n",
    "while looping == True:\n",
    "    #Resets the four counter\n",
    "    fours = 0\n",
    "    #Runs the previous code from parts 1 and 2\n",
    "    for i in range (simulations):\n",
    "        roll = random.choices(dice, k = rolls)\n",
    "        for j in (roll):\n",
    "            if j == 4:\n",
    "                fours += 1\n",
    "                break\n",
    "    #Removes a dice from the pool to test a lower number\n",
    "    rolls -= 1\n",
    "    #Checks whether the probability is close to 90\n",
    "    if (fours/simulations*100 <= 90):\n",
    "        looping = False\n",
    "        break\n",
    "        \n",
    "print(f\"Probability of rolling at least one four in {rolls} rolls: {fours/simulations*100}\")\n",
    "print(f\"With {rolls} to {rolls + 1} dice, there is about a 90% probability of rolling at least one four.\\n\")\n",
    "\n",
    "#Part 4\n",
    "rolls = 20\n",
    "fours = 0\n",
    "looping = True\n",
    "\n",
    "while looping == True:\n",
    "    #Resets the four counter\n",
    "    fours = 0\n",
    "    #Runs the previous code from parts 1 and 2\n",
    "    for i in range (simulations):\n",
    "        roll = random.choices(dice, k = rolls)\n",
    "        for j in (roll):\n",
    "            if j == 4:\n",
    "                fours += 1\n",
    "                break\n",
    "    #Removes a dice from the pool to test a lower number\n",
    "    rolls -= 1\n",
    "    #Checks whether the probability is close to 90\n",
    "    if (fours/simulations*100 <= 95):\n",
    "        looping = False\n",
    "        break\n",
    "        \n",
    "print(f\"Probability of rolling at least one four in {rolls} rolls: {fours/simulations*100}\")\n",
    "print(f\"With {rolls} to {rolls + 1} dice, there is about a 90% probability of rolling at least one four.\\n\")\n",
    "\n",
    "#Added 10 more dice for simulating the .99 probability\n",
    "rolls = 30\n",
    "fours = 0\n",
    "looping = True\n",
    "\n",
    "while looping == True:\n",
    "    #Resets the four counter\n",
    "    fours = 0\n",
    "    #Runs the previous code from parts 1 and 2\n",
    "    for i in range (simulations):\n",
    "        roll = random.choices(dice, k = rolls)\n",
    "        for j in (roll):\n",
    "            if j == 4:\n",
    "                fours += 1\n",
    "                break\n",
    "    #Removes a dice from the pool to test a lower number\n",
    "    rolls -= 1\n",
    "    #Checks whether the probability is close to 90\n",
    "    if (fours/simulations*100 <= 99):\n",
    "        looping = False\n",
    "        break\n",
    "        \n",
    "print(f\"Probability of rolling at least one four in {rolls} rolls: {fours/simulations*100}\")\n",
    "print(f\"With {rolls} to {rolls + 1} dice, there is about a 90% probability of rolling at least one four.\\n\")"
   ]
  },
  {
   "cell_type": "markdown",
   "metadata": {},
   "source": [
    "## Problem 2\n",
    "\n",
    "Create a simulation function where you will roll a fair 6-sided die twice. Use simulation to find out the probability of getting a 4 or 6 on the first toss and a 1,2,3, or 5 on the second toss. "
   ]
  },
  {
   "cell_type": "code",
   "execution_count": 22,
   "metadata": {},
   "outputs": [
    {
     "name": "stdout",
     "output_type": "stream",
     "text": [
      "Probability of rolling a 4 or 6 and then a 1, 2, 3, or 5 is: 21.98 in 10000 experiments!\n"
     ]
    }
   ],
   "source": [
    "simulations = 10000\n",
    "dice = [1,2,3,4,5,6]\n",
    "rolls = 2\n",
    "win = 0\n",
    "\n",
    "for i in range (simulations):\n",
    "    roll = random.choices(dice, k = rolls)\n",
    "    if roll[0] == 4 or roll[0] == 6:\n",
    "        if roll[1] == 1 or roll[1] == 2 or roll[1] == 3 or roll[1] == 5:\n",
    "            win += 1\n",
    "print(f\"Probability of rolling a 4 or 6 and then a 1, 2, 3, or 5 is: {win/simulations*100} in {simulations} experiments!\")\n"
   ]
  },
  {
   "cell_type": "markdown",
   "metadata": {},
   "source": [
    "## Problem 3\n",
    "\n",
    "Suppose that you have a bag with 3 coins. One of them is a fair coin, but the others are biased trick coins. When flipped, the three coins come up heads with probability $\\frac{1}{2}$, $\\frac{1}{4}$, and $\\frac{1}{6}$, respectively.\n",
    "\n",
    "Consider the experiment where you pick one coin at random and flip it three times. Let $H_i$ be the event that the coin comes up heads on flip $i$. What is the probability of the outcome $H_1\\cap H_2\\cap \\overline{H_3}$?\n",
    "\n",
    "With small modification in your code, find out the probability of the outcome $H_1\\cap \\overline{H_2} \\cap \\overline{H_3}$.\n",
    "\n",
    "Use simulation to find out the probability."
   ]
  },
  {
   "cell_type": "code",
   "execution_count": 31,
   "metadata": {},
   "outputs": [
    {
     "name": "stdout",
     "output_type": "stream",
     "text": [
      "The probability of getting two heads and one tail is 5.050000000000001\n",
      "The probability of getting one head and two tails is 17.49\n"
     ]
    }
   ],
   "source": [
    "#Set variables\n",
    "coin = 0\n",
    "simulations = 10000\n",
    "outcome = 0\n",
    "\n",
    "#Select a coin\n",
    "bag = [1,2,3]\n",
    "bag_choice = random.choice(bag)\n",
    "#Define the space of the coin\n",
    "if bag_choice == 1:\n",
    "    coin = [\"Heads\", \"Tails\"]\n",
    "if bag_choice == 2:\n",
    "    coin = [\"Heads\", \"Tails\", \"Tails\", \"Tails\"]\n",
    "if bag_choice == 3:\n",
    "    coin = [\"Heads\", \"Tails\", \"Tails\", \"Tails\", \"Tails\",\"Tails\"]\n",
    "#I'm 101% sure there is a better way of doing this\n",
    "\n",
    "\n",
    "#Simulate the experiment\n",
    "for i in range (simulations):\n",
    "    flip = random.choices(coin, k = 3)\n",
    "    if flip[0] == \"Heads\" and flip[1] == \"Heads\" and flip[2] == \"Tails\":\n",
    "        outcome += 1\n",
    "\n",
    "print(f\"The probability of getting two heads and one tail is {outcome/simulations*100}\")\n",
    "\n",
    "#Modification for heads, tails, tails\n",
    "\n",
    "bag_choice = random.choice(bag)\n",
    "#Define the space of the coin\n",
    "if bag_choice == 1:\n",
    "    coin = [\"Heads\", \"Tails\"]\n",
    "if bag_choice == 2:\n",
    "    coin = [\"Heads\", \"Tails\", \"Tails\", \"Tails\"]\n",
    "if bag_choice == 3:\n",
    "    coin = [\"Heads\", \"Tails\", \"Tails\", \"Tails\", \"Tails\",\"Tails\"]\n",
    "#I'm 101% sure there is a better way of doing this\n",
    "\n",
    "\n",
    "#Simulate the experiment\n",
    "for i in range (simulations):\n",
    "    flip = random.choices(coin, k = 3)\n",
    "    if flip[0] == \"Heads\" and flip[1] == \"Tails\" and flip[2] == \"Tails\":\n",
    "        outcome += 1\n",
    "print(f\"The probability of getting one head and two tails is {outcome/simulations*100}\")   "
   ]
  },
  {
   "cell_type": "markdown",
   "metadata": {},
   "source": [
    "# Submit Your Solutions\n",
    "\n",
    "Confirm that you've successfully completed the assignment.\n",
    "\n",
    "Along with the Notebook, include a PDF of the notebook with your solutions.\n",
    "\n",
    "```add``` and ```commit``` the final version of your work, and ```push``` your PDF file to your GitHub repository.\n",
    "\n",
    "Submit the URL of your GitHub Repository as your assignment submission on Canvas."
   ]
  },
  {
   "cell_type": "code",
   "execution_count": null,
   "metadata": {},
   "outputs": [],
   "source": []
  }
 ],
 "metadata": {
  "kernelspec": {
   "display_name": "Python 3 (ipykernel)",
   "language": "python",
   "name": "python3"
  },
  "language_info": {
   "codemirror_mode": {
    "name": "ipython",
    "version": 3
   },
   "file_extension": ".py",
   "mimetype": "text/x-python",
   "name": "python",
   "nbconvert_exporter": "python",
   "pygments_lexer": "ipython3",
   "version": "3.11.5"
  },
  "latex_envs": {
   "LaTeX_envs_menu_present": true,
   "autoclose": false,
   "autocomplete": true,
   "bibliofile": "biblio.bib",
   "cite_by": "apalike",
   "current_citInitial": 1,
   "eqLabelWithNumbers": true,
   "eqNumInitial": 1,
   "hotkeys": {
    "equation": "Ctrl-E",
    "itemize": "Ctrl-I"
   },
   "labels_anchors": false,
   "latex_user_defs": false,
   "report_style_numbering": false,
   "user_envs_cfg": false
  },
  "varInspector": {
   "cols": {
    "lenName": 16,
    "lenType": 16,
    "lenVar": 40
   },
   "kernels_config": {
    "python": {
     "delete_cmd_postfix": "",
     "delete_cmd_prefix": "del ",
     "library": "var_list.py",
     "varRefreshCmd": "print(var_dic_list())"
    },
    "r": {
     "delete_cmd_postfix": ") ",
     "delete_cmd_prefix": "rm(",
     "library": "var_list.r",
     "varRefreshCmd": "cat(var_dic_list()) "
    }
   },
   "types_to_exclude": [
    "module",
    "function",
    "builtin_function_or_method",
    "instance",
    "_Feature"
   ],
   "window_display": false
  }
 },
 "nbformat": 4,
 "nbformat_minor": 4
}
