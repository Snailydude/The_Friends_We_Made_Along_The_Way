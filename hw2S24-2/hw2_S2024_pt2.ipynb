{
 "cells": [
  {
   "cell_type": "markdown",
   "metadata": {},
   "source": [
    "# Homework 2\n",
    "\n",
    "(Total: 50pt)\n",
    "\n",
    "This is an individual assignment.\n",
    "Related knowledge:\n",
    "- Bayes theorem\n",
    "- Independence\n",
    "- Combinatorics\n"
   ]
  },
  {
   "cell_type": "markdown",
   "metadata": {},
   "source": [
    "## Problem 1\n",
    "\n",
    "(20 pt)\n",
    "\n",
    "Implement a function to evaluate the relative frequency of a batch being accepted if it contains $k$ defectives.\n",
    "\n",
    "A batch of one hundred items is inspected by testing four randomly selected items.\n",
    "If one of the four is defective, the batch is rejected. What is the probability that the batch is\n",
    "accepted if it contains five defectives?"
   ]
  },
  {
   "cell_type": "code",
   "execution_count": 7,
   "metadata": {},
   "outputs": [
    {
     "name": "stdout",
     "output_type": "stream",
     "text": [
      "Total number of failed samples: 181. Relative frequency of passing : 0.819\n"
     ]
    }
   ],
   "source": [
    "import numpy as np\n",
    "import random\n",
    "\n",
    "def rejectk(k=5, batchnum=100): #k= the number of defectives in the batch\n",
    "    # Create a list of items using booleans, 0 for non-defective, 1 for defective, that represets the batch.\n",
    "    batch = np.zeros(batchnum, dtype = int)\n",
    "    defective = random.sample(range(0,batchnum),k) #generates index of defective values\n",
    "    for i in defective:\n",
    "        batch[i] = 1\n",
    "    return batch\n",
    "\n",
    "#Define global scope variables\n",
    "num_sims = 1000\n",
    "num_sample = 4\n",
    "failures = 0\n",
    "\n",
    "#For loop\n",
    "for sim in range(num_sims):\n",
    "    #Generates a new batch\n",
    "    batch = rejectk()\n",
    "\n",
    "    # implement sampling from the batch.\n",
    "    sample = random.sample(range(0,100), num_sample)\n",
    "    # determine if it shall be rejected.\n",
    "    for j in sample:\n",
    "        if batch[j] == 1: #compare index of batch to the value of sample\n",
    "            failures += 1\n",
    "            break #break to stop multiple failures per sample\n",
    "            \n",
    "#calculate and print out the relative frequency.        \n",
    "print(f\"Total number of failed samples: {failures}. Relative frequency of passing : {1-failures/num_sims}\")\n",
    "\n"
   ]
  },
  {
   "cell_type": "markdown",
   "metadata": {},
   "source": [
    "## Problem 2\n",
    "\n",
    "(20 pt)\n",
    "\n",
    "**Suppose you have an assortment of coins: 51 coins each with probability of flipping heads $p$, in the interval $[0.3,0.8]$, defined below:**"
   ]
  },
  {
   "cell_type": "code",
   "execution_count": 22,
   "metadata": {},
   "outputs": [
    {
     "data": {
      "text/plain": [
       "array([0.3 , 0.31, 0.32, 0.33, 0.34, 0.35, 0.36, 0.37, 0.38, 0.39, 0.4 ,\n",
       "       0.41, 0.42, 0.43, 0.44, 0.45, 0.46, 0.47, 0.48, 0.49, 0.5 , 0.51,\n",
       "       0.52, 0.53, 0.54, 0.55, 0.56, 0.57, 0.58, 0.59, 0.6 , 0.61, 0.62,\n",
       "       0.63, 0.64, 0.65, 0.66, 0.67, 0.68, 0.69, 0.7 , 0.71, 0.72, 0.73,\n",
       "       0.74, 0.75, 0.76, 0.77, 0.78, 0.79, 0.8 ])"
      ]
     },
     "execution_count": 22,
     "metadata": {},
     "output_type": "execute_result"
    }
   ],
   "source": [
    "import numpy as np\n",
    "allcoins = np.linspace(0.3,0.8,51)  # set of coins\n",
    "\n",
    "allcoins"
   ]
  },
  {
   "cell_type": "markdown",
   "metadata": {},
   "source": [
    "Consider the experiment where you pick a coin at random and flip it 8 times, and the event \"all tails\" occurs. \n",
    "\n",
    " **What is the probability that the coin has a probability of tail smaller than 0.5?**\n",
    " \n",
    "Implement simulation to evaluate the relative frequency\n"
   ]
  },
  {
   "cell_type": "code",
   "execution_count": 27,
   "metadata": {
    "scrolled": true
   },
   "outputs": [
    {
     "name": "stdout",
     "output_type": "stream",
     "text": [
      "Relative frequency of having all tails when the probability of tails is less than 0.5: 0.0006551724137931035\n"
     ]
    }
   ],
   "source": [
    "import numpy.random as npr\n",
    "\n",
    "num_sims = 1000\n",
    "num_flips = 8\n",
    "all_tails = 0\n",
    "total_sims = 0 #Only counting the last 30 values in the allcoins array\n",
    "\n",
    "def experiment(coin, num_flips):\n",
    "    x = npr.choice([0,1],num_flips, p=[coin, 1-coin]) #Tails => 1\n",
    "    for y in x:\n",
    "        if y != 1:\n",
    "            return 0\n",
    "    return 1\n",
    "\n",
    "for i in range(21,50): #restriction on probabilities for heads below .50\n",
    "    for j in range(num_sims):   #j is the value of the simulation count per coin probability\n",
    "        all_tails += experiment(allcoins[i],num_flips) #i is the value of the coin probability\n",
    "        total_sims += 1\n",
    "        \n",
    "print(f\"Relative frequency of having all tails when the probability of tails is less than 0.5: {all_tails/total_sims}\")"
   ]
  },
  {
   "cell_type": "markdown",
   "metadata": {},
   "source": [
    "## Problem 3\n",
    "\n",
    "(5 pt)\n",
    "Using python to perform the counting\n",
    "\n",
    "\n",
    "How many ways can one arrange 4 math books, 3 chemistry books, 2 physics\n",
    "books, and 1 biology book on a bookshelf so that all the math books are together, all the\n",
    "chemistry books are together, and all the physics books are together?"
   ]
  },
  {
   "cell_type": "code",
   "execution_count": null,
   "metadata": {},
   "outputs": [],
   "source": []
  },
  {
   "cell_type": "markdown",
   "metadata": {},
   "source": [
    "## Problem 4\n",
    "(5 pt) Using python to perform the counting\n",
    "\n",
    "Suppose there are 10 men and 8 women. How many ways can we choose a committee that has 2 men and 2 women? "
   ]
  },
  {
   "cell_type": "code",
   "execution_count": 30,
   "metadata": {},
   "outputs": [
    {
     "name": "stdout",
     "output_type": "stream",
     "text": [
      "The probability of creating a committee with 2 men and 2 women is 0.4117647058823529.\n"
     ]
    }
   ],
   "source": [
    "from scipy.special import binom\n",
    "\n",
    "total_men = 10\n",
    "total_women = 8\n",
    "committee_size = 4\n",
    "\n",
    "total_prob = binom(total_men,committee_size/2) * binom(total_women,committee_size/2) / binom(total_women+total_men,committee_size)\n",
    "print(f\"The probability of creating a committee with 2 men and 2 women is {total_prob}.\")\n"
   ]
  },
  {
   "cell_type": "markdown",
   "metadata": {},
   "source": [
    "# Submit Your Solutions\n",
    "\n",
    "Confirm that you've successfully completed the assignment.\n",
    "submit both the notebook files and a PDF printout"
   ]
  },
  {
   "cell_type": "code",
   "execution_count": null,
   "metadata": {},
   "outputs": [],
   "source": []
  }
 ],
 "metadata": {
  "kernelspec": {
   "display_name": "Python 3 (ipykernel)",
   "language": "python",
   "name": "python3"
  },
  "language_info": {
   "codemirror_mode": {
    "name": "ipython",
    "version": 3
   },
   "file_extension": ".py",
   "mimetype": "text/x-python",
   "name": "python",
   "nbconvert_exporter": "python",
   "pygments_lexer": "ipython3",
   "version": "3.11.5"
  },
  "latex_envs": {
   "LaTeX_envs_menu_present": true,
   "autoclose": false,
   "autocomplete": true,
   "bibliofile": "biblio.bib",
   "cite_by": "apalike",
   "current_citInitial": 1,
   "eqLabelWithNumbers": true,
   "eqNumInitial": 1,
   "hotkeys": {
    "equation": "Ctrl-E",
    "itemize": "Ctrl-I"
   },
   "labels_anchors": false,
   "latex_user_defs": false,
   "report_style_numbering": false,
   "user_envs_cfg": false
  },
  "varInspector": {
   "cols": {
    "lenName": 16,
    "lenType": 16,
    "lenVar": 40
   },
   "kernels_config": {
    "python": {
     "delete_cmd_postfix": "",
     "delete_cmd_prefix": "del ",
     "library": "var_list.py",
     "varRefreshCmd": "print(var_dic_list())"
    },
    "r": {
     "delete_cmd_postfix": ") ",
     "delete_cmd_prefix": "rm(",
     "library": "var_list.r",
     "varRefreshCmd": "cat(var_dic_list()) "
    }
   },
   "types_to_exclude": [
    "module",
    "function",
    "builtin_function_or_method",
    "instance",
    "_Feature"
   ],
   "window_display": false
  }
 },
 "nbformat": 4,
 "nbformat_minor": 4
}
